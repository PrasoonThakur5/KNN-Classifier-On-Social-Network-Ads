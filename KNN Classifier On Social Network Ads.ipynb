{
 "cells": [
  {
   "cell_type": "code",
   "execution_count": 1,
   "metadata": {},
   "outputs": [],
   "source": [
    "import numpy as np\n",
    "import pandas as pd\n",
    "import matplotlib.pyplot as plt"
   ]
  },
  {
   "cell_type": "code",
   "execution_count": 2,
   "metadata": {},
   "outputs": [
    {
     "data": {
      "text/html": [
       "<div>\n",
       "<style scoped>\n",
       "    .dataframe tbody tr th:only-of-type {\n",
       "        vertical-align: middle;\n",
       "    }\n",
       "\n",
       "    .dataframe tbody tr th {\n",
       "        vertical-align: top;\n",
       "    }\n",
       "\n",
       "    .dataframe thead th {\n",
       "        text-align: right;\n",
       "    }\n",
       "</style>\n",
       "<table border=\"1\" class=\"dataframe\">\n",
       "  <thead>\n",
       "    <tr style=\"text-align: right;\">\n",
       "      <th></th>\n",
       "      <th>User ID</th>\n",
       "      <th>Gender</th>\n",
       "      <th>Age</th>\n",
       "      <th>EstimatedSalary</th>\n",
       "      <th>Purchased</th>\n",
       "    </tr>\n",
       "  </thead>\n",
       "  <tbody>\n",
       "    <tr>\n",
       "      <th>0</th>\n",
       "      <td>15624510</td>\n",
       "      <td>Male</td>\n",
       "      <td>19</td>\n",
       "      <td>19000</td>\n",
       "      <td>0</td>\n",
       "    </tr>\n",
       "    <tr>\n",
       "      <th>1</th>\n",
       "      <td>15810944</td>\n",
       "      <td>Male</td>\n",
       "      <td>35</td>\n",
       "      <td>20000</td>\n",
       "      <td>0</td>\n",
       "    </tr>\n",
       "    <tr>\n",
       "      <th>2</th>\n",
       "      <td>15668575</td>\n",
       "      <td>Female</td>\n",
       "      <td>26</td>\n",
       "      <td>43000</td>\n",
       "      <td>0</td>\n",
       "    </tr>\n",
       "    <tr>\n",
       "      <th>3</th>\n",
       "      <td>15603246</td>\n",
       "      <td>Female</td>\n",
       "      <td>27</td>\n",
       "      <td>57000</td>\n",
       "      <td>0</td>\n",
       "    </tr>\n",
       "    <tr>\n",
       "      <th>4</th>\n",
       "      <td>15804002</td>\n",
       "      <td>Male</td>\n",
       "      <td>19</td>\n",
       "      <td>76000</td>\n",
       "      <td>0</td>\n",
       "    </tr>\n",
       "  </tbody>\n",
       "</table>\n",
       "</div>"
      ],
      "text/plain": [
       "    User ID  Gender  Age  EstimatedSalary  Purchased\n",
       "0  15624510    Male   19            19000          0\n",
       "1  15810944    Male   35            20000          0\n",
       "2  15668575  Female   26            43000          0\n",
       "3  15603246  Female   27            57000          0\n",
       "4  15804002    Male   19            76000          0"
      ]
     },
     "execution_count": 2,
     "metadata": {},
     "output_type": "execute_result"
    }
   ],
   "source": [
    "data=pd.read_csv('Social_Network_Ads.csv')\n",
    "data.head()"
   ]
  },
  {
   "cell_type": "code",
   "execution_count": 3,
   "metadata": {},
   "outputs": [],
   "source": [
    "x=data.iloc[:,2:4].values"
   ]
  },
  {
   "cell_type": "code",
   "execution_count": 38,
   "metadata": {},
   "outputs": [
    {
     "data": {
      "text/plain": [
       "array([0, 0, 0, 0, 0, 0, 0, 1, 0, 0, 0, 0, 0, 0, 0, 0, 1, 1, 1, 1, 1, 1,\n",
       "       1, 1, 1, 1, 1, 1, 0, 0, 0, 1, 0, 0, 0, 0, 0, 0, 0, 0, 0, 0, 0, 0,\n",
       "       0, 0, 0, 0, 1, 0, 0, 0, 0, 0, 0, 0, 0, 0, 0, 0, 0, 0, 0, 1, 0, 0,\n",
       "       0, 0, 0, 0, 0, 0, 0, 0, 0, 1, 0, 0, 0, 0, 0, 0, 0, 0, 0, 1, 0, 0,\n",
       "       0, 0, 0, 0, 0, 0, 0, 0, 0, 1, 0, 0, 0, 0, 0, 1, 0, 0, 0, 0, 0, 0,\n",
       "       0, 0, 0, 0, 0, 0, 0, 0, 0, 0, 0, 0, 0, 0, 0, 0, 0, 0, 0, 0, 0, 0,\n",
       "       0, 0, 0, 0, 0, 1, 0, 0, 0, 0, 0, 0, 0, 0, 1, 0, 0, 0, 0, 0, 0, 0,\n",
       "       0, 0, 0, 0, 0, 1, 1, 0, 0, 0, 0, 0, 0, 0, 1, 0, 0, 0, 0, 0, 0, 0,\n",
       "       0, 0, 0, 0, 0, 0, 1, 0, 0, 0, 0, 0, 0, 0, 0, 0, 0, 0, 0, 0, 0, 0,\n",
       "       0, 0, 0, 0, 1, 0, 1, 0, 1, 0, 1, 0, 1, 1, 0, 0, 0, 1, 0, 0, 0, 1,\n",
       "       0, 1, 1, 1, 0, 0, 1, 1, 0, 1, 1, 0, 1, 1, 0, 1, 0, 0, 0, 1, 1, 0,\n",
       "       1, 1, 0, 1, 0, 1, 0, 1, 0, 0, 1, 1, 0, 1, 0, 0, 1, 1, 0, 1, 1, 0,\n",
       "       1, 1, 0, 0, 1, 0, 0, 1, 1, 1, 1, 1, 0, 1, 1, 1, 1, 0, 1, 1, 0, 1,\n",
       "       0, 1, 0, 1, 1, 1, 1, 0, 0, 0, 1, 1, 0, 1, 1, 1, 1, 1, 0, 0, 0, 1,\n",
       "       1, 0, 0, 1, 0, 1, 0, 1, 1, 0, 1, 0, 1, 1, 0, 1, 1, 0, 0, 0, 1, 1,\n",
       "       0, 1, 0, 0, 1, 0, 1, 0, 0, 1, 1, 0, 0, 1, 1, 0, 1, 1, 0, 0, 1, 0,\n",
       "       1, 0, 1, 1, 1, 0, 1, 0, 1, 1, 1, 0, 1, 1, 1, 1, 0, 1, 1, 1, 0, 1,\n",
       "       0, 1, 0, 0, 1, 1, 0, 1, 1, 1, 1, 1, 1, 0, 1, 1, 1, 1, 1, 1, 0, 1,\n",
       "       1, 1, 0, 1], dtype=int64)"
      ]
     },
     "execution_count": 38,
     "metadata": {},
     "output_type": "execute_result"
    }
   ],
   "source": [
    "y"
   ]
  },
  {
   "cell_type": "code",
   "execution_count": 4,
   "metadata": {},
   "outputs": [
    {
     "data": {
      "text/plain": [
       "(400, 2)"
      ]
     },
     "execution_count": 4,
     "metadata": {},
     "output_type": "execute_result"
    }
   ],
   "source": [
    "x.shape"
   ]
  },
  {
   "cell_type": "code",
   "execution_count": 5,
   "metadata": {},
   "outputs": [],
   "source": [
    "y=data.iloc[:,-1].values"
   ]
  },
  {
   "cell_type": "code",
   "execution_count": 6,
   "metadata": {},
   "outputs": [
    {
     "data": {
      "text/plain": [
       "(400,)"
      ]
     },
     "execution_count": 6,
     "metadata": {},
     "output_type": "execute_result"
    }
   ],
   "source": [
    "y.shape"
   ]
  },
  {
   "cell_type": "code",
   "execution_count": 7,
   "metadata": {},
   "outputs": [],
   "source": [
    "from sklearn.model_selection import train_test_split\n",
    "x_train,x_test,y_train,y_test=train_test_split(x,y,test_size=0.20)"
   ]
  },
  {
   "cell_type": "code",
   "execution_count": 8,
   "metadata": {},
   "outputs": [
    {
     "data": {
      "text/plain": [
       "(320, 2)"
      ]
     },
     "execution_count": 8,
     "metadata": {},
     "output_type": "execute_result"
    }
   ],
   "source": [
    "x_train.shape"
   ]
  },
  {
   "cell_type": "code",
   "execution_count": 9,
   "metadata": {},
   "outputs": [
    {
     "data": {
      "text/plain": [
       "(80, 2)"
      ]
     },
     "execution_count": 9,
     "metadata": {},
     "output_type": "execute_result"
    }
   ],
   "source": [
    "x_test.shape"
   ]
  },
  {
   "cell_type": "code",
   "execution_count": 10,
   "metadata": {},
   "outputs": [],
   "source": [
    "from sklearn.preprocessing import StandardScaler\n",
    "scaler=StandardScaler()"
   ]
  },
  {
   "cell_type": "code",
   "execution_count": 11,
   "metadata": {},
   "outputs": [
    {
     "data": {
      "text/plain": [
       "array([[ 0.81208794, -0.32247353],\n",
       "       [ 0.43174672,  1.13218268],\n",
       "       [-0.04367981,  2.26028342],\n",
       "       [-1.27978878, -0.44122098],\n",
       "       [-0.04367981,  2.2009097 ],\n",
       "       [-0.04367981, -0.5005947 ],\n",
       "       [ 1.09734385, -0.14435236],\n",
       "       [-0.23385042,  0.06345567],\n",
       "       [ 1.00225855, -1.03495821],\n",
       "       [ 2.04819691, -0.82715018],\n",
       "       [ 1.57277038,  1.13218268],\n",
       "       [-0.32893573,  1.33999071],\n",
       "       [-0.61419165, -0.1146655 ],\n",
       "       [-0.80436226,  0.39001114],\n",
       "       [-0.89944756, -0.76777646],\n",
       "       [ 1.00225855,  0.77594034],\n",
       "       [ 0.33666141,  0.06345567],\n",
       "       [ 2.14328221,  0.95406151],\n",
       "       [ 0.05140549, -0.26309981],\n",
       "       [-0.42402103, -1.15370566],\n",
       "       [ 0.2415761 , -0.67871587],\n",
       "       [ 0.33666141, -0.73808959],\n",
       "       [-0.61419165, -0.05529178],\n",
       "       [-0.99453287, -0.35216039],\n",
       "       [-0.04367981, -1.09433193],\n",
       "       [-1.18470348,  0.30095056],\n",
       "       [-0.80436226,  0.15251625],\n",
       "       [ 0.90717324, -1.06464507],\n",
       "       [ 0.81208794, -1.24276624],\n",
       "       [ 1.00225855,  0.12282939],\n",
       "       [-0.13876512,  1.66654619],\n",
       "       [-0.89944756, -0.44122098],\n",
       "       [ 1.00225855,  2.11184911],\n",
       "       [-1.66013001,  0.47907173],\n",
       "       [ 0.2415761 ,  0.15251625],\n",
       "       [ 0.1464908 ,  1.90404108],\n",
       "       [-0.32893573,  1.25093013],\n",
       "       [-1.37487409, -0.20372609],\n",
       "       [ 0.2415761 , -0.29278667],\n",
       "       [ 0.43174672, -0.14435236],\n",
       "       [ 0.90717324,  1.10249582],\n",
       "       [ 0.71700263,  1.8149805 ],\n",
       "       [-0.80436226, -0.79746332],\n",
       "       [ 0.71700263, -1.30213996],\n",
       "       [-0.23385042, -0.94589763],\n",
       "       [ 0.81208794,  0.77594034],\n",
       "       [-0.70927695, -0.61934215],\n",
       "       [ 0.90717324,  1.0431221 ],\n",
       "       [-1.08961817, -1.03495821],\n",
       "       [-1.27978878, -1.12401879],\n",
       "       [-1.75521531,  0.00408194],\n",
       "       [-1.18470348,  0.2712637 ],\n",
       "       [-0.13876512, -0.29278667],\n",
       "       [ 1.76294099,  1.01343524],\n",
       "       [-0.51910634,  1.93372794],\n",
       "       [-0.04367981,  0.00408194],\n",
       "       [-1.08961817, -0.79746332],\n",
       "       [-1.08961817, -1.56932172],\n",
       "       [ 0.43174672,  0.2712637 ],\n",
       "       [-0.23385042,  0.53844545],\n",
       "       [-0.13876512, -0.58965529],\n",
       "       [-0.04367981, -0.38184726],\n",
       "       [-1.46995939, -1.2724531 ],\n",
       "       [ 1.8580263 , -0.29278667],\n",
       "       [ 0.2415761 , -0.14435236],\n",
       "       [ 0.2415761 ,  0.0337688 ],\n",
       "       [ 0.71700263, -1.12401879],\n",
       "       [-0.04367981,  0.2712637 ],\n",
       "       [-1.75521531, -1.45057427],\n",
       "       [-0.42402103, -0.55996843],\n",
       "       [-0.89944756, -0.32247353],\n",
       "       [ 0.33666141,  0.06345567],\n",
       "       [-0.23385042, -0.58965529],\n",
       "       [ 1.00225855,  0.59781917],\n",
       "       [-0.61419165,  0.12282939],\n",
       "       [-0.70927695,  1.93372794],\n",
       "       [-0.04367981,  1.99310167],\n",
       "       [-0.04367981,  0.68687976],\n",
       "       [-0.23385042, -1.42088741],\n",
       "       [ 0.33666141, -0.29278667],\n",
       "       [ 0.81208794,  1.39936444],\n",
       "       [ 0.90717324, -1.18339252],\n",
       "       [-0.13876512, -0.53028156],\n",
       "       [-0.70927695,  0.2712637 ],\n",
       "       [ 0.81208794, -0.85683704],\n",
       "       [ 0.05140549, -0.32247353],\n",
       "       [-1.08961817, -1.59900858],\n",
       "       [ 2.04819691, -1.21307938],\n",
       "       [-1.18470348,  0.59781917],\n",
       "       [-0.80436226, -0.79746332],\n",
       "       [ 1.9531116 ,  2.2009097 ],\n",
       "       [-1.08961817,  0.33063742],\n",
       "       [-1.5650447 , -0.05529178],\n",
       "       [-0.51910634, -1.53963486],\n",
       "       [-0.23385042,  0.8056272 ],\n",
       "       [-0.42402103, -0.85683704],\n",
       "       [-1.66013001,  0.12282939],\n",
       "       [-1.08961817,  1.4290513 ],\n",
       "       [ 0.33666141, -0.53028156],\n",
       "       [-1.85030062, -0.05529178],\n",
       "       [ 0.1464908 , -0.26309981],\n",
       "       [-0.23385042, -0.38184726],\n",
       "       [ 1.28751446,  2.26028342],\n",
       "       [-0.23385042,  0.09314253],\n",
       "       [-1.18470348, -1.42088741],\n",
       "       [-0.23385042, -0.91621076],\n",
       "       [-0.89944756,  0.2712637 ],\n",
       "       [ 0.05140549,  0.0337688 ],\n",
       "       [-0.13876512, -1.09433193],\n",
       "       [-0.99453287,  0.59781917],\n",
       "       [-0.89944756, -1.12401879],\n",
       "       [-0.99453287,  0.419698  ],\n",
       "       [-0.80436226,  2.31965714],\n",
       "       [ 0.43174672,  1.01343524],\n",
       "       [ 1.00225855, -0.85683704],\n",
       "       [-0.32893573, -0.79746332],\n",
       "       [ 1.00225855,  1.8149805 ],\n",
       "       [-0.80436226, -1.24276624],\n",
       "       [-1.37487409, -0.64902901],\n",
       "       [ 0.43174672,  0.09314253],\n",
       "       [ 0.05140549,  0.0337688 ],\n",
       "       [-1.08961817,  0.06345567],\n",
       "       [ 1.8580263 , -1.09433193],\n",
       "       [ 0.2415761 , -0.38184726],\n",
       "       [ 0.81208794,  0.36032428],\n",
       "       [-0.23385042,  0.62750604],\n",
       "       [ 1.00225855, -1.09433193],\n",
       "       [-0.23385042,  0.15251625],\n",
       "       [-0.61419165, -0.35216039],\n",
       "       [-1.85030062,  0.36032428],\n",
       "       [-0.51910634,  1.39936444],\n",
       "       [-0.23385042, -0.76777646],\n",
       "       [ 1.66785569,  1.78529364],\n",
       "       [-1.27978878, -1.2724531 ],\n",
       "       [-0.99453287,  1.99310167],\n",
       "       [-0.42402103, -1.24276624],\n",
       "       [ 0.90717324, -1.33182683],\n",
       "       [-0.23385042, -1.39120055],\n",
       "       [ 0.1464908 ,  0.15251625],\n",
       "       [-1.85030062, -0.76777646],\n",
       "       [-0.23385042, -1.2724531 ],\n",
       "       [-0.23385042, -0.29278667],\n",
       "       [-0.70927695, -1.56932172],\n",
       "       [-0.23385042,  1.13218268],\n",
       "       [-0.70927695,  0.30095056],\n",
       "       [-1.5650447 ,  0.06345567],\n",
       "       [ 1.00225855, -1.09433193],\n",
       "       [-0.99453287, -1.48026113],\n",
       "       [-1.08961817,  0.47907173],\n",
       "       [-1.08961817, -1.62869544],\n",
       "       [-0.23385042,  0.06345567],\n",
       "       [ 1.38259977,  1.31030385],\n",
       "       [ 1.57277038, -1.30213996],\n",
       "       [-1.18470348,  0.50875859],\n",
       "       [-1.75521531, -1.50994799],\n",
       "       [-0.99453287, -0.47090784],\n",
       "       [ 0.1464908 ,  1.54779874],\n",
       "       [-0.70927695,  1.36967757],\n",
       "       [-0.23385042, -1.33182683],\n",
       "       [ 0.81208794,  0.2712637 ],\n",
       "       [ 0.62191733,  2.05247539],\n",
       "       [ 0.90717324, -1.48026113],\n",
       "       [ 0.90717324, -0.61934215],\n",
       "       [ 1.09734385,  0.56813231],\n",
       "       [ 1.57277038,  1.01343524],\n",
       "       [ 0.43174672, -0.14435236],\n",
       "       [-1.66013001, -1.00527135],\n",
       "       [ 1.38259977, -0.94589763],\n",
       "       [ 1.47768508,  0.06345567],\n",
       "       [ 1.19242916, -1.00527135],\n",
       "       [ 0.90717324, -0.67871587],\n",
       "       [ 0.2415761 ,  0.15251625],\n",
       "       [ 0.71700263, -1.42088741],\n",
       "       [-0.61419165,  1.4290513 ],\n",
       "       [ 0.90717324,  1.28061699],\n",
       "       [ 1.00225855,  1.90404108],\n",
       "       [-0.04367981, -0.53028156],\n",
       "       [-1.27978878, -0.44122098],\n",
       "       [ 0.1464908 ,  0.09314253],\n",
       "       [ 0.33666141, -0.32247353],\n",
       "       [ 1.28751446, -1.39120055],\n",
       "       [ 1.9531116 , -0.67871587],\n",
       "       [-0.04367981,  0.12282939],\n",
       "       [ 2.14328221, -1.06464507],\n",
       "       [-0.61419165, -1.62869544],\n",
       "       [ 0.90717324, -0.58965529],\n",
       "       [ 0.43174672,  0.00408194],\n",
       "       [ 0.1464908 , -0.32247353],\n",
       "       [ 0.2415761 , -0.26309981],\n",
       "       [-0.42402103,  2.349344  ],\n",
       "       [ 0.33666141, -0.20372609],\n",
       "       [ 2.14328221,  1.13218268],\n",
       "       [ 0.1464908 ,  0.0337688 ],\n",
       "       [-0.61419165,  0.18220311],\n",
       "       [ 1.66785569, -0.91621076],\n",
       "       [ 0.90717324, -0.55996843],\n",
       "       [-1.66013001, -0.61934215],\n",
       "       [ 0.33666141,  0.06345567],\n",
       "       [-0.04367981,  0.30095056],\n",
       "       [-1.37487409,  0.36032428],\n",
       "       [ 1.09734385,  0.12282939],\n",
       "       [-1.75521531, -1.33182683],\n",
       "       [ 0.33666141, -0.55996843],\n",
       "       [-0.99453287, -1.15370566],\n",
       "       [-1.37487409, -1.24276624],\n",
       "       [ 1.28751446,  1.90404108],\n",
       "       [-0.23385042,  0.0337688 ],\n",
       "       [-1.27978878,  0.56813231],\n",
       "       [-0.89944756, -0.97558449],\n",
       "       [ 0.1464908 ,  0.77594034],\n",
       "       [ 0.1464908 , -0.82715018],\n",
       "       [ 0.05140549, -0.55996843],\n",
       "       [ 0.81208794,  0.53844545],\n",
       "       [-1.27978878, -1.50994799],\n",
       "       [-1.08961817,  0.30095056],\n",
       "       [ 1.00225855, -1.18339252],\n",
       "       [-1.46995939, -1.53963486],\n",
       "       [-0.23385042,  0.2712637 ],\n",
       "       [-0.23385042, -0.32247353],\n",
       "       [-0.13876512, -0.20372609],\n",
       "       [-0.23385042, -0.26309981],\n",
       "       [-0.04367981, -0.44122098],\n",
       "       [-0.23385042,  2.28997028],\n",
       "       [-0.13876512,  1.63685933],\n",
       "       [ 0.05140549, -0.58965529],\n",
       "       [-1.08961817,  0.419698  ],\n",
       "       [ 0.81208794, -1.42088741],\n",
       "       [-1.46995939,  0.33063742],\n",
       "       [ 0.33666141,  0.2712637 ],\n",
       "       [ 1.66785569,  1.63685933],\n",
       "       [-0.70927695,  0.50875859],\n",
       "       [-0.04367981,  0.15251625],\n",
       "       [-0.13876512,  2.2009097 ],\n",
       "       [-0.99453287,  0.77594034],\n",
       "       [ 2.04819691,  2.17122284],\n",
       "       [-0.04367981,  0.24157684],\n",
       "       [-1.27978878, -0.35216039],\n",
       "       [-0.23385042, -0.14435236],\n",
       "       [ 2.14328221, -0.82715018],\n",
       "       [-0.23385042,  0.21188997],\n",
       "       [ 1.9531116 , -0.94589763],\n",
       "       [-0.42402103, -0.29278667],\n",
       "       [ 1.38259977,  2.02278853],\n",
       "       [ 0.1464908 , -0.82715018],\n",
       "       [-0.99453287,  0.53844545],\n",
       "       [-0.89944756,  1.5774856 ],\n",
       "       [ 1.09734385, -0.91621076],\n",
       "       [ 2.04819691,  0.53844545],\n",
       "       [-0.99453287,  0.56813231],\n",
       "       [-1.75521531,  0.44938487],\n",
       "       [ 2.14328221, -0.82715018],\n",
       "       [ 1.8580263 , -1.30213996],\n",
       "       [-0.99453287, -0.38184726],\n",
       "       [-0.70927695, -0.23341295],\n",
       "       [ 0.05140549,  0.30095056],\n",
       "       [ 0.33666141, -0.53028156],\n",
       "       [-0.23385042, -0.58965529],\n",
       "       [-0.13876512,  0.86500093],\n",
       "       [ 1.76294099, -0.29278667],\n",
       "       [-0.51910634,  0.47907173],\n",
       "       [ 1.09734385, -1.00527135],\n",
       "       [-0.42402103, -0.02560492],\n",
       "       [-0.89944756,  0.44938487],\n",
       "       [-1.27978878,  0.419698  ],\n",
       "       [-0.80436226, -0.67871587],\n",
       "       [ 1.38259977, -1.45057427],\n",
       "       [ 0.05140549,  1.25093013],\n",
       "       [ 0.33666141,  0.50875859],\n",
       "       [-1.66013001,  0.36032428],\n",
       "       [ 1.47768508,  0.36032428],\n",
       "       [ 0.05140549, -0.58965529],\n",
       "       [-1.46995939, -0.20372609],\n",
       "       [-0.23385042, -0.5005947 ],\n",
       "       [ 1.00225855,  1.45873816],\n",
       "       [ 2.14328221,  0.39001114],\n",
       "       [-0.04367981, -0.23341295],\n",
       "       [ 1.9531116 ,  0.92437465],\n",
       "       [-0.42402103,  1.28061699],\n",
       "       [-1.08961817, -1.12401879],\n",
       "       [ 0.43174672, -0.5005947 ],\n",
       "       [ 1.38259977,  0.59781917],\n",
       "       [ 0.33666141,  0.30095056],\n",
       "       [ 1.09734385,  0.53844545],\n",
       "       [-0.51910634, -1.53963486],\n",
       "       [ 0.33666141,  0.06345567],\n",
       "       [-0.04367981,  0.21188997],\n",
       "       [-0.61419165, -1.06464507],\n",
       "       [-0.04367981,  0.30095056],\n",
       "       [ 1.09734385,  0.47907173],\n",
       "       [ 0.33666141,  0.0337688 ],\n",
       "       [ 0.62191733, -0.91621076],\n",
       "       [-0.51910634,  1.48842502],\n",
       "       [-1.85030062, -0.53028156],\n",
       "       [-0.51910634,  2.37903087],\n",
       "       [ 0.52683202,  1.87435422],\n",
       "       [-1.46995939, -0.44122098],\n",
       "       [ 1.8580263 ,  0.12282939],\n",
       "       [ 0.2415761 , -0.38184726],\n",
       "       [-1.75521531, -1.30213996],\n",
       "       [-0.51910634,  0.89468779],\n",
       "       [ 1.09734385, -1.24276624],\n",
       "       [-1.75521531,  0.18220311],\n",
       "       [ 0.43174672,  0.30095056],\n",
       "       [-1.27978878, -1.39120055],\n",
       "       [-0.70927695,  1.10249582],\n",
       "       [ 0.1464908 ,  1.07280896],\n",
       "       [ 1.00225855,  2.02278853],\n",
       "       [ 0.05140549,  1.28061699],\n",
       "       [ 0.2415761 ,  2.14153597],\n",
       "       [ 0.52683202,  1.25093013],\n",
       "       [ 2.14328221, -0.70840273],\n",
       "       [-0.32893573, -0.79746332],\n",
       "       [ 1.9531116 , -1.39120055],\n",
       "       [ 0.71700263, -0.73808959],\n",
       "       [ 0.05140549, -0.44122098],\n",
       "       [ 0.33666141, -1.18339252],\n",
       "       [ 0.05140549, -0.26309981],\n",
       "       [-0.80436226, -0.26309981],\n",
       "       [ 1.76294099,  1.87435422],\n",
       "       [-1.66013001,  0.36032428]])"
      ]
     },
     "execution_count": 11,
     "metadata": {},
     "output_type": "execute_result"
    }
   ],
   "source": [
    "x_train=scaler.fit_transform(x_train)\n",
    "x_train"
   ]
  },
  {
   "cell_type": "code",
   "execution_count": 12,
   "metadata": {},
   "outputs": [
    {
     "data": {
      "text/plain": [
       "array([[-0.72618508, -1.44444763],\n",
       "       [-0.92146174,  0.3025556 ],\n",
       "       [-0.23799343,  1.37329952],\n",
       "       [ 1.12894319, -0.71183337],\n",
       "       [-0.43327009, -1.24720533],\n",
       "       [ 2.00768816,  1.71142917],\n",
       "       [ 0.93366653, -1.13449544],\n",
       "       [ 0.8360282 ,  2.10591377],\n",
       "       [-0.33563176,  0.16166824],\n",
       "       [ 0.15255989,  0.24620066],\n",
       "       [ 0.34783655, -0.43005866],\n",
       "       [ 2.00768816,  0.38708801],\n",
       "       [ 1.42185818,  0.97881491],\n",
       "       [-0.82382341, -1.52898005],\n",
       "       [-0.72618508,  0.55615284],\n",
       "       [ 0.15255989,  0.07713583],\n",
       "       [ 0.34783655,  0.3025556 ],\n",
       "       [-0.33563176, -1.38809269],\n",
       "       [ 1.03130486,  2.02138136],\n",
       "       [ 2.00768816,  0.18984571],\n",
       "       [ 0.05492156,  1.82413906],\n",
       "       [ 1.03130486, -1.16267292],\n",
       "       [-0.62854675,  1.34512204],\n",
       "       [ 0.15255989, -0.2891713 ],\n",
       "       [ 0.15255989, -0.34552624],\n",
       "       [-1.70256838, -1.50080257],\n",
       "       [ 0.34783655, -0.43005866],\n",
       "       [-0.72618508,  0.04895836],\n",
       "       [-1.01910007,  0.55615284],\n",
       "       [ 1.91004983,  0.72521767],\n",
       "       [-0.92146174,  0.38708801],\n",
       "       [-0.53090842, -0.74001084],\n",
       "       [-0.33563176, -0.40188119],\n",
       "       [-1.1167384 , -0.31734877],\n",
       "       [-0.04271677, -0.12010647],\n",
       "       [ 0.34783655,  0.16166824],\n",
       "       [ 1.51949651,  0.02078089],\n",
       "       [-1.21437673, -1.52898005],\n",
       "       [-1.50729172, -1.38809269],\n",
       "       [ 0.73838987, -1.04996303],\n",
       "       [-0.82382341,  0.55615284],\n",
       "       [ 0.73838987,  0.13349077],\n",
       "       [-0.1403551 ,  0.04895836],\n",
       "       [-0.43327009,  0.07713583],\n",
       "       [-1.1167384 , -1.4726251 ],\n",
       "       [ 1.42185818,  2.0777363 ],\n",
       "       [ 0.34783655, -0.14828394],\n",
       "       [ 1.32421985,  2.2749786 ],\n",
       "       [-1.21437673,  0.3025556 ],\n",
       "       [ 1.12894319,  0.52797537],\n",
       "       [-1.99548337,  0.47162043],\n",
       "       [ 0.73838987, -1.30356027],\n",
       "       [-1.50729172, -0.091929  ],\n",
       "       [ 0.34783655,  2.24680113],\n",
       "       [-1.21437673, -0.4864136 ],\n",
       "       [-1.80020671, -1.30356027],\n",
       "       [ 0.8360282 , -0.74001084],\n",
       "       [ 1.12894319, -1.38809269],\n",
       "       [ 0.05492156,  0.04895836],\n",
       "       [-0.23799343,  0.16166824],\n",
       "       [ 1.8124115 ,  1.4860094 ],\n",
       "       [-1.01910007, -0.2891713 ],\n",
       "       [-0.33563176, -0.31734877],\n",
       "       [-1.31201506, -1.02178556],\n",
       "       [-1.01910007,  0.41526549],\n",
       "       [ 0.34783655,  0.58433031],\n",
       "       [-0.33563176, -0.62730096],\n",
       "       [ 0.05492156,  0.27437813],\n",
       "       [-1.01910007,  0.4997979 ],\n",
       "       [-1.70256838,  0.52797537],\n",
       "       [ 0.05492156,  0.21802319],\n",
       "       [ 0.64075154,  0.27437813],\n",
       "       [-0.23799343, -0.43005866],\n",
       "       [ 0.64075154, -1.33173774],\n",
       "       [ 1.42185818, -0.99360809],\n",
       "       [-0.1403551 ,  0.07713583],\n",
       "       [-1.21437673, -1.10631797],\n",
       "       [ 0.15255989,  1.06334733],\n",
       "       [ 0.8360282 , -1.30356027],\n",
       "       [ 0.44547488,  1.6832517 ]])"
      ]
     },
     "execution_count": 12,
     "metadata": {},
     "output_type": "execute_result"
    }
   ],
   "source": [
    "x_test=scaler.fit_transform(x_test)\n",
    "x_test"
   ]
  },
  {
   "cell_type": "code",
   "execution_count": 13,
   "metadata": {},
   "outputs": [
    {
     "data": {
      "text/plain": [
       "17.88854381999832"
      ]
     },
     "execution_count": 13,
     "metadata": {},
     "output_type": "execute_result"
    }
   ],
   "source": [
    "# 1st Method\n",
    "np.sqrt(x_train.shape[0])"
   ]
  },
  {
   "cell_type": "code",
   "execution_count": 14,
   "metadata": {},
   "outputs": [],
   "source": [
    "k=18"
   ]
  },
  {
   "cell_type": "code",
   "execution_count": 15,
   "metadata": {},
   "outputs": [],
   "source": [
    "from sklearn.neighbors import KNeighborsClassifier\n",
    "knn=KNeighborsClassifier(n_neighbors=k)"
   ]
  },
  {
   "cell_type": "code",
   "execution_count": 16,
   "metadata": {},
   "outputs": [
    {
     "data": {
      "text/plain": [
       "KNeighborsClassifier(algorithm='auto', leaf_size=30, metric='minkowski',\n",
       "                     metric_params=None, n_jobs=None, n_neighbors=18, p=2,\n",
       "                     weights='uniform')"
      ]
     },
     "execution_count": 16,
     "metadata": {},
     "output_type": "execute_result"
    }
   ],
   "source": [
    "# Train our model\n",
    "knn.fit(x_train,y_train)"
   ]
  },
  {
   "cell_type": "code",
   "execution_count": 17,
   "metadata": {},
   "outputs": [],
   "source": [
    "y_pred=knn.predict(x_test)"
   ]
  },
  {
   "cell_type": "code",
   "execution_count": 18,
   "metadata": {},
   "outputs": [
    {
     "data": {
      "text/plain": [
       "(80,)"
      ]
     },
     "execution_count": 18,
     "metadata": {},
     "output_type": "execute_result"
    }
   ],
   "source": [
    "y_pred.shape"
   ]
  },
  {
   "cell_type": "code",
   "execution_count": 19,
   "metadata": {},
   "outputs": [
    {
     "data": {
      "text/plain": [
       "(80,)"
      ]
     },
     "execution_count": 19,
     "metadata": {},
     "output_type": "execute_result"
    }
   ],
   "source": [
    "y_test.shape"
   ]
  },
  {
   "cell_type": "code",
   "execution_count": 20,
   "metadata": {},
   "outputs": [
    {
     "data": {
      "text/plain": [
       "0.925"
      ]
     },
     "execution_count": 20,
     "metadata": {},
     "output_type": "execute_result"
    }
   ],
   "source": [
    "from sklearn.metrics import accuracy_score\n",
    "accuracy_score(y_test,y_pred)"
   ]
  },
  {
   "cell_type": "code",
   "execution_count": 21,
   "metadata": {},
   "outputs": [
    {
     "data": {
      "text/plain": [
       "array([[50,  4],\n",
       "       [ 2, 24]], dtype=int64)"
      ]
     },
     "execution_count": 21,
     "metadata": {},
     "output_type": "execute_result"
    }
   ],
   "source": [
    "from sklearn.metrics import confusion_matrix\n",
    "confusion_matrix(y_test,y_pred)"
   ]
  },
  {
   "cell_type": "code",
   "execution_count": 22,
   "metadata": {},
   "outputs": [],
   "source": [
    "# 2nd method\n",
    "accuracy=[]\n",
    "for i in range(1,100):\n",
    "    knn=KNeighborsClassifier(n_neighbors=i)\n",
    "    knn.fit(x_train,y_train)\n",
    "    accuracy.append(accuracy_score(y_test,knn.predict(x_test)))"
   ]
  },
  {
   "cell_type": "code",
   "execution_count": 23,
   "metadata": {},
   "outputs": [
    {
     "data": {
      "text/plain": [
       "99"
      ]
     },
     "execution_count": 23,
     "metadata": {},
     "output_type": "execute_result"
    }
   ],
   "source": [
    "len(accuracy)"
   ]
  },
  {
   "cell_type": "code",
   "execution_count": 24,
   "metadata": {},
   "outputs": [
    {
     "data": {
      "text/plain": [
       "[<matplotlib.lines.Line2D at 0x1abca71e6a0>]"
      ]
     },
     "execution_count": 24,
     "metadata": {},
     "output_type": "execute_result"
    },
    {
     "data": {
      "image/png": "[encoded data removed]",
      "text/plain": [
       "<Figure size 432x288 with 1 Axes>"
      ]
     },
     "metadata": {
      "needs_background": "light"
     },
     "output_type": "display_data"
    }
   ],
   "source": [
    "plt.plot(range(1,100),accuracy)"
   ]
  },
  {
   "cell_type": "code",
   "execution_count": 25,
   "metadata": {},
   "outputs": [
    {
     "data": {
      "text/plain": [
       "KNeighborsClassifier(algorithm='auto', leaf_size=30, metric='minkowski',\n",
       "                     metric_params=None, n_jobs=None, n_neighbors=6, p=2,\n",
       "                     weights='uniform')"
      ]
     },
     "execution_count": 25,
     "metadata": {},
     "output_type": "execute_result"
    }
   ],
   "source": [
    "knn=KNeighborsClassifier(n_neighbors=6)\n",
    "knn.fit(x_train,y_train)"
   ]
  },
  {
   "cell_type": "code",
   "execution_count": 26,
   "metadata": {},
   "outputs": [],
   "source": [
    "y_pred=knn.predict(x_test)"
   ]
  },
  {
   "cell_type": "code",
   "execution_count": 27,
   "metadata": {},
   "outputs": [
    {
     "data": {
      "text/plain": [
       "0.9125"
      ]
     },
     "execution_count": 27,
     "metadata": {},
     "output_type": "execute_result"
    }
   ],
   "source": [
    "accuracy_score(y_test,y_pred)"
   ]
  },
  {
   "cell_type": "code",
   "execution_count": 28,
   "metadata": {},
   "outputs": [],
   "source": [
    "def predict_output():\n",
    "    age=int(input(\"Enter The Age\"))\n",
    "    salary=int(input(\"Enter The Salary\"))\n",
    "    \n",
    "    x_new=np.array([[age],[salary]]).reshape(1,2)\n",
    "    x_new=scaler.transform(x_new)\n",
    "    \n",
    "    if knn.predict(x_new)[0]==0:\n",
    "        return \"Will Not Purchase\"\n",
    "    else:\n",
    "        return \"Will Purchase\""
   ]
  },
  {
   "cell_type": "code",
   "execution_count": 32,
   "metadata": {},
   "outputs": [
    {
     "name": "stdout",
     "output_type": "stream",
     "text": [
      "Enter The Age40\n",
      "Enter The Salary120000\n"
     ]
    },
    {
     "data": {
      "text/plain": [
       "'Will Purchase'"
      ]
     },
     "execution_count": 32,
     "metadata": {},
     "output_type": "execute_result"
    }
   ],
   "source": [
    "predict_output()"
   ]
  },
  {
   "cell_type": "code",
   "execution_count": 33,
   "metadata": {},
   "outputs": [],
   "source": [
    "a=np.arange(start=x_train[:,0].min()-1, stop=x_train[:,0].max()+1, step=0.01)\n",
    "b=np.arange(start=x_train[:,1].min()-1, stop=x_train[:,1].max()+1, step=0.01)\n",
    "\n",
    "xx,yy=np.meshgrid(a,b)"
   ]
  },
  {
   "cell_type": "code",
   "execution_count": 34,
   "metadata": {},
   "outputs": [],
   "source": [
    "input_array=np.array([xx.ravel(),yy.ravel()]).T\n",
    "labels=knn.predict(input_array)"
   ]
  },
  {
   "cell_type": "code",
   "execution_count": 35,
   "metadata": {},
   "outputs": [
    {
     "data": {
      "text/plain": [
       "<matplotlib.contour.QuadContourSet at 0x1abcb032240>"
      ]
     },
     "execution_count": 35,
     "metadata": {},
     "output_type": "execute_result"
    },
    {
     "data": {
      "image/png": "[encoded data removed]",
      "text/plain": [
       "<Figure size 432x288 with 1 Axes>"
      ]
     },
     "metadata": {
      "needs_background": "light"
     },
     "output_type": "display_data"
    }
   ],
   "source": [
    "plt.contourf(xx,yy,labels.reshape(xx.shape))"
   ]
  },
  {
   "cell_type": "code",
   "execution_count": 36,
   "metadata": {},
   "outputs": [
    {
     "data": {
      "text/plain": [
       "<matplotlib.collections.PathCollection at 0x1abcb24b6a0>"
      ]
     },
     "execution_count": 36,
     "metadata": {},
     "output_type": "execute_result"
    },
    {
     "data": {
      "image/png": "[encoded data removed]",
      "text/plain": [
       "<Figure size 432x288 with 1 Axes>"
      ]
     },
     "metadata": {
      "needs_background": "light"
     },
     "output_type": "display_data"
    }
   ],
   "source": [
    "plt.contourf(xx,yy,labels.reshape(xx.shape))\n",
    "plt.scatter(x_train[:,0],x_train[:,1], c=y_train)"
   ]
  },
  {
   "cell_type": "code",
   "execution_count": null,
   "metadata": {},
   "outputs": [],
   "source": []
  }
 ],
 "metadata": {
  "kernelspec": {
   "display_name": "Python 3",
   "language": "python",
   "name": "python3"
  },
  "language_info": {
   "codemirror_mode": {
    "name": "ipython",
    "version": 3
   },
   "file_extension": ".py",
   "mimetype": "text/x-python",
   "name": "python",
   "nbconvert_exporter": "python",
   "pygments_lexer": "ipython3",
   "version": "3.7.3"
  }
 },
 "nbformat": 4,
 "nbformat_minor": 2
}
